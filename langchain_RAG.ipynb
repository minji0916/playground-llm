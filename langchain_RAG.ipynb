{
 "cells": [
  {
   "cell_type": "code",
   "execution_count": 31,
   "metadata": {},
   "outputs": [
    {
     "data": {
      "text/plain": [
       "True"
      ]
     },
     "execution_count": 31,
     "metadata": {},
     "output_type": "execute_result"
    }
   ],
   "source": [
    "from dotenv import load_dotenv\n",
    "load_dotenv()"
   ]
  },
  {
   "cell_type": "code",
   "execution_count": 3,
   "metadata": {},
   "outputs": [
    {
     "name": "stdout",
     "output_type": "stream",
     "text": [
      "Requirement already satisfied: langchain in ./.venv/lib/python3.12/site-packages (0.3.4)\n",
      "Requirement already satisfied: openai in ./.venv/lib/python3.12/site-packages (1.52.2)\n",
      "Requirement already satisfied: chromadb in ./.venv/lib/python3.12/site-packages (0.5.15)\n",
      "Requirement already satisfied: langchainhub in ./.venv/lib/python3.12/site-packages (0.1.21)\n",
      "Requirement already satisfied: tiktoken in ./.venv/lib/python3.12/site-packages (0.8.0)\n",
      "Requirement already satisfied: pypdf in ./.venv/lib/python3.12/site-packages (5.0.1)\n",
      "Collecting langchain-community\n",
      "  Downloading langchain_community-0.3.3-py3-none-any.whl.metadata (2.8 kB)\n",
      "Requirement already satisfied: PyYAML>=5.3 in ./.venv/lib/python3.12/site-packages (from langchain) (6.0.2)\n",
      "Requirement already satisfied: SQLAlchemy<3,>=1.4 in ./.venv/lib/python3.12/site-packages (from langchain) (2.0.36)\n",
      "Requirement already satisfied: aiohttp<4.0.0,>=3.8.3 in ./.venv/lib/python3.12/site-packages (from langchain) (3.10.10)\n",
      "Requirement already satisfied: langchain-core<0.4.0,>=0.3.12 in ./.venv/lib/python3.12/site-packages (from langchain) (0.3.12)\n",
      "Requirement already satisfied: langchain-text-splitters<0.4.0,>=0.3.0 in ./.venv/lib/python3.12/site-packages (from langchain) (0.3.0)\n",
      "Requirement already satisfied: langsmith<0.2.0,>=0.1.17 in ./.venv/lib/python3.12/site-packages (from langchain) (0.1.137)\n",
      "Requirement already satisfied: numpy<2.0.0,>=1.26.0 in ./.venv/lib/python3.12/site-packages (from langchain) (1.26.4)\n",
      "Requirement already satisfied: pydantic<3.0.0,>=2.7.4 in ./.venv/lib/python3.12/site-packages (from langchain) (2.9.2)\n",
      "Requirement already satisfied: requests<3,>=2 in ./.venv/lib/python3.12/site-packages (from langchain) (2.32.3)\n",
      "Requirement already satisfied: tenacity!=8.4.0,<10,>=8.1.0 in ./.venv/lib/python3.12/site-packages (from langchain) (9.0.0)\n",
      "Requirement already satisfied: anyio<5,>=3.5.0 in ./.venv/lib/python3.12/site-packages (from openai) (4.6.2.post1)\n",
      "Requirement already satisfied: distro<2,>=1.7.0 in ./.venv/lib/python3.12/site-packages (from openai) (1.9.0)\n",
      "Requirement already satisfied: httpx<1,>=0.23.0 in ./.venv/lib/python3.12/site-packages (from openai) (0.27.2)\n",
      "Requirement already satisfied: jiter<1,>=0.4.0 in ./.venv/lib/python3.12/site-packages (from openai) (0.6.1)\n",
      "Requirement already satisfied: sniffio in ./.venv/lib/python3.12/site-packages (from openai) (1.3.1)\n",
      "Requirement already satisfied: tqdm>4 in ./.venv/lib/python3.12/site-packages (from openai) (4.66.5)\n",
      "Requirement already satisfied: typing-extensions<5,>=4.11 in ./.venv/lib/python3.12/site-packages (from openai) (4.12.2)\n",
      "Requirement already satisfied: build>=1.0.3 in ./.venv/lib/python3.12/site-packages (from chromadb) (1.2.2.post1)\n",
      "Requirement already satisfied: chroma-hnswlib==0.7.6 in ./.venv/lib/python3.12/site-packages (from chromadb) (0.7.6)\n",
      "Requirement already satisfied: fastapi>=0.95.2 in ./.venv/lib/python3.12/site-packages (from chromadb) (0.115.3)\n",
      "Requirement already satisfied: uvicorn>=0.18.3 in ./.venv/lib/python3.12/site-packages (from uvicorn[standard]>=0.18.3->chromadb) (0.32.0)\n",
      "Requirement already satisfied: posthog>=2.4.0 in ./.venv/lib/python3.12/site-packages (from chromadb) (3.7.0)\n",
      "Requirement already satisfied: onnxruntime>=1.14.1 in ./.venv/lib/python3.12/site-packages (from chromadb) (1.19.2)\n",
      "Requirement already satisfied: opentelemetry-api>=1.2.0 in ./.venv/lib/python3.12/site-packages (from chromadb) (1.27.0)\n",
      "Requirement already satisfied: opentelemetry-exporter-otlp-proto-grpc>=1.2.0 in ./.venv/lib/python3.12/site-packages (from chromadb) (1.27.0)\n",
      "Requirement already satisfied: opentelemetry-instrumentation-fastapi>=0.41b0 in ./.venv/lib/python3.12/site-packages (from chromadb) (0.48b0)\n",
      "Requirement already satisfied: opentelemetry-sdk>=1.2.0 in ./.venv/lib/python3.12/site-packages (from chromadb) (1.27.0)\n",
      "Requirement already satisfied: tokenizers>=0.13.2 in ./.venv/lib/python3.12/site-packages (from chromadb) (0.20.1)\n",
      "Requirement already satisfied: pypika>=0.48.9 in ./.venv/lib/python3.12/site-packages (from chromadb) (0.48.9)\n",
      "Requirement already satisfied: overrides>=7.3.1 in ./.venv/lib/python3.12/site-packages (from chromadb) (7.7.0)\n",
      "Requirement already satisfied: importlib-resources in ./.venv/lib/python3.12/site-packages (from chromadb) (6.4.5)\n",
      "Requirement already satisfied: grpcio>=1.58.0 in ./.venv/lib/python3.12/site-packages (from chromadb) (1.67.0)\n",
      "Requirement already satisfied: bcrypt>=4.0.1 in ./.venv/lib/python3.12/site-packages (from chromadb) (4.2.0)\n",
      "Requirement already satisfied: typer>=0.9.0 in ./.venv/lib/python3.12/site-packages (from chromadb) (0.12.5)\n",
      "Requirement already satisfied: kubernetes>=28.1.0 in ./.venv/lib/python3.12/site-packages (from chromadb) (31.0.0)\n",
      "Requirement already satisfied: mmh3>=4.0.1 in ./.venv/lib/python3.12/site-packages (from chromadb) (5.0.1)\n",
      "Requirement already satisfied: orjson>=3.9.12 in ./.venv/lib/python3.12/site-packages (from chromadb) (3.10.10)\n",
      "Requirement already satisfied: rich>=10.11.0 in ./.venv/lib/python3.12/site-packages (from chromadb) (13.9.3)\n",
      "Requirement already satisfied: packaging<25,>=23.2 in ./.venv/lib/python3.12/site-packages (from langchainhub) (24.1)\n",
      "Requirement already satisfied: types-requests<3.0.0.0,>=2.31.0.2 in ./.venv/lib/python3.12/site-packages (from langchainhub) (2.32.0.20241016)\n",
      "Requirement already satisfied: regex>=2022.1.18 in ./.venv/lib/python3.12/site-packages (from tiktoken) (2024.9.11)\n",
      "Collecting dataclasses-json<0.7,>=0.5.7 (from langchain-community)\n",
      "  Using cached dataclasses_json-0.6.7-py3-none-any.whl.metadata (25 kB)\n",
      "Collecting pydantic-settings<3.0.0,>=2.4.0 (from langchain-community)\n",
      "  Downloading pydantic_settings-2.6.0-py3-none-any.whl.metadata (3.5 kB)\n",
      "Requirement already satisfied: aiohappyeyeballs>=2.3.0 in ./.venv/lib/python3.12/site-packages (from aiohttp<4.0.0,>=3.8.3->langchain) (2.4.3)\n",
      "Requirement already satisfied: aiosignal>=1.1.2 in ./.venv/lib/python3.12/site-packages (from aiohttp<4.0.0,>=3.8.3->langchain) (1.3.1)\n",
      "Requirement already satisfied: attrs>=17.3.0 in ./.venv/lib/python3.12/site-packages (from aiohttp<4.0.0,>=3.8.3->langchain) (24.2.0)\n",
      "Requirement already satisfied: frozenlist>=1.1.1 in ./.venv/lib/python3.12/site-packages (from aiohttp<4.0.0,>=3.8.3->langchain) (1.5.0)\n",
      "Requirement already satisfied: multidict<7.0,>=4.5 in ./.venv/lib/python3.12/site-packages (from aiohttp<4.0.0,>=3.8.3->langchain) (6.1.0)\n",
      "Requirement already satisfied: yarl<2.0,>=1.12.0 in ./.venv/lib/python3.12/site-packages (from aiohttp<4.0.0,>=3.8.3->langchain) (1.16.0)\n",
      "Requirement already satisfied: idna>=2.8 in ./.venv/lib/python3.12/site-packages (from anyio<5,>=3.5.0->openai) (3.10)\n",
      "Requirement already satisfied: pyproject_hooks in ./.venv/lib/python3.12/site-packages (from build>=1.0.3->chromadb) (1.2.0)\n",
      "Collecting marshmallow<4.0.0,>=3.18.0 (from dataclasses-json<0.7,>=0.5.7->langchain-community)\n",
      "  Downloading marshmallow-3.23.0-py3-none-any.whl.metadata (7.6 kB)\n",
      "Collecting typing-inspect<1,>=0.4.0 (from dataclasses-json<0.7,>=0.5.7->langchain-community)\n",
      "  Using cached typing_inspect-0.9.0-py3-none-any.whl.metadata (1.5 kB)\n",
      "Requirement already satisfied: starlette<0.42.0,>=0.40.0 in ./.venv/lib/python3.12/site-packages (from fastapi>=0.95.2->chromadb) (0.41.0)\n",
      "Requirement already satisfied: certifi in ./.venv/lib/python3.12/site-packages (from httpx<1,>=0.23.0->openai) (2024.8.30)\n",
      "Requirement already satisfied: httpcore==1.* in ./.venv/lib/python3.12/site-packages (from httpx<1,>=0.23.0->openai) (1.0.6)\n",
      "Requirement already satisfied: h11<0.15,>=0.13 in ./.venv/lib/python3.12/site-packages (from httpcore==1.*->httpx<1,>=0.23.0->openai) (0.14.0)\n",
      "Requirement already satisfied: six>=1.9.0 in ./.venv/lib/python3.12/site-packages (from kubernetes>=28.1.0->chromadb) (1.16.0)\n",
      "Requirement already satisfied: python-dateutil>=2.5.3 in ./.venv/lib/python3.12/site-packages (from kubernetes>=28.1.0->chromadb) (2.9.0.post0)\n",
      "Requirement already satisfied: google-auth>=1.0.1 in ./.venv/lib/python3.12/site-packages (from kubernetes>=28.1.0->chromadb) (2.35.0)\n",
      "Requirement already satisfied: websocket-client!=0.40.0,!=0.41.*,!=0.42.*,>=0.32.0 in ./.venv/lib/python3.12/site-packages (from kubernetes>=28.1.0->chromadb) (1.8.0)\n",
      "Requirement already satisfied: requests-oauthlib in ./.venv/lib/python3.12/site-packages (from kubernetes>=28.1.0->chromadb) (2.0.0)\n",
      "Requirement already satisfied: oauthlib>=3.2.2 in ./.venv/lib/python3.12/site-packages (from kubernetes>=28.1.0->chromadb) (3.2.2)\n",
      "Requirement already satisfied: urllib3>=1.24.2 in ./.venv/lib/python3.12/site-packages (from kubernetes>=28.1.0->chromadb) (2.2.3)\n",
      "Requirement already satisfied: durationpy>=0.7 in ./.venv/lib/python3.12/site-packages (from kubernetes>=28.1.0->chromadb) (0.9)\n",
      "Requirement already satisfied: jsonpatch<2.0,>=1.33 in ./.venv/lib/python3.12/site-packages (from langchain-core<0.4.0,>=0.3.12->langchain) (1.33)\n",
      "Requirement already satisfied: requests-toolbelt<2.0.0,>=1.0.0 in ./.venv/lib/python3.12/site-packages (from langsmith<0.2.0,>=0.1.17->langchain) (1.0.0)\n",
      "Requirement already satisfied: coloredlogs in ./.venv/lib/python3.12/site-packages (from onnxruntime>=1.14.1->chromadb) (15.0.1)\n",
      "Requirement already satisfied: flatbuffers in ./.venv/lib/python3.12/site-packages (from onnxruntime>=1.14.1->chromadb) (24.3.25)\n",
      "Requirement already satisfied: protobuf in ./.venv/lib/python3.12/site-packages (from onnxruntime>=1.14.1->chromadb) (4.25.5)\n",
      "Requirement already satisfied: sympy in ./.venv/lib/python3.12/site-packages (from onnxruntime>=1.14.1->chromadb) (1.13.3)\n",
      "Requirement already satisfied: deprecated>=1.2.6 in ./.venv/lib/python3.12/site-packages (from opentelemetry-api>=1.2.0->chromadb) (1.2.14)\n",
      "Requirement already satisfied: importlib-metadata<=8.4.0,>=6.0 in ./.venv/lib/python3.12/site-packages (from opentelemetry-api>=1.2.0->chromadb) (8.4.0)\n",
      "Requirement already satisfied: googleapis-common-protos~=1.52 in ./.venv/lib/python3.12/site-packages (from opentelemetry-exporter-otlp-proto-grpc>=1.2.0->chromadb) (1.65.0)\n",
      "Requirement already satisfied: opentelemetry-exporter-otlp-proto-common==1.27.0 in ./.venv/lib/python3.12/site-packages (from opentelemetry-exporter-otlp-proto-grpc>=1.2.0->chromadb) (1.27.0)\n",
      "Requirement already satisfied: opentelemetry-proto==1.27.0 in ./.venv/lib/python3.12/site-packages (from opentelemetry-exporter-otlp-proto-grpc>=1.2.0->chromadb) (1.27.0)\n",
      "Requirement already satisfied: opentelemetry-instrumentation-asgi==0.48b0 in ./.venv/lib/python3.12/site-packages (from opentelemetry-instrumentation-fastapi>=0.41b0->chromadb) (0.48b0)\n",
      "Requirement already satisfied: opentelemetry-instrumentation==0.48b0 in ./.venv/lib/python3.12/site-packages (from opentelemetry-instrumentation-fastapi>=0.41b0->chromadb) (0.48b0)\n",
      "Requirement already satisfied: opentelemetry-semantic-conventions==0.48b0 in ./.venv/lib/python3.12/site-packages (from opentelemetry-instrumentation-fastapi>=0.41b0->chromadb) (0.48b0)\n",
      "Requirement already satisfied: opentelemetry-util-http==0.48b0 in ./.venv/lib/python3.12/site-packages (from opentelemetry-instrumentation-fastapi>=0.41b0->chromadb) (0.48b0)\n",
      "Requirement already satisfied: setuptools>=16.0 in ./.venv/lib/python3.12/site-packages (from opentelemetry-instrumentation==0.48b0->opentelemetry-instrumentation-fastapi>=0.41b0->chromadb) (75.2.0)\n",
      "Requirement already satisfied: wrapt<2.0.0,>=1.0.0 in ./.venv/lib/python3.12/site-packages (from opentelemetry-instrumentation==0.48b0->opentelemetry-instrumentation-fastapi>=0.41b0->chromadb) (1.16.0)\n",
      "Requirement already satisfied: asgiref~=3.0 in ./.venv/lib/python3.12/site-packages (from opentelemetry-instrumentation-asgi==0.48b0->opentelemetry-instrumentation-fastapi>=0.41b0->chromadb) (3.8.1)\n",
      "Requirement already satisfied: monotonic>=1.5 in ./.venv/lib/python3.12/site-packages (from posthog>=2.4.0->chromadb) (1.6)\n",
      "Requirement already satisfied: backoff>=1.10.0 in ./.venv/lib/python3.12/site-packages (from posthog>=2.4.0->chromadb) (2.2.1)\n",
      "Requirement already satisfied: annotated-types>=0.6.0 in ./.venv/lib/python3.12/site-packages (from pydantic<3.0.0,>=2.7.4->langchain) (0.7.0)\n",
      "Requirement already satisfied: pydantic-core==2.23.4 in ./.venv/lib/python3.12/site-packages (from pydantic<3.0.0,>=2.7.4->langchain) (2.23.4)\n",
      "Requirement already satisfied: python-dotenv>=0.21.0 in ./.venv/lib/python3.12/site-packages (from pydantic-settings<3.0.0,>=2.4.0->langchain-community) (1.0.1)\n",
      "Requirement already satisfied: charset-normalizer<4,>=2 in ./.venv/lib/python3.12/site-packages (from requests<3,>=2->langchain) (3.4.0)\n",
      "Requirement already satisfied: markdown-it-py>=2.2.0 in ./.venv/lib/python3.12/site-packages (from rich>=10.11.0->chromadb) (3.0.0)\n",
      "Requirement already satisfied: pygments<3.0.0,>=2.13.0 in ./.venv/lib/python3.12/site-packages (from rich>=10.11.0->chromadb) (2.18.0)\n",
      "Requirement already satisfied: huggingface-hub<1.0,>=0.16.4 in ./.venv/lib/python3.12/site-packages (from tokenizers>=0.13.2->chromadb) (0.26.1)\n",
      "Requirement already satisfied: click>=8.0.0 in ./.venv/lib/python3.12/site-packages (from typer>=0.9.0->chromadb) (8.1.7)\n",
      "Requirement already satisfied: shellingham>=1.3.0 in ./.venv/lib/python3.12/site-packages (from typer>=0.9.0->chromadb) (1.5.4)\n",
      "Requirement already satisfied: httptools>=0.5.0 in ./.venv/lib/python3.12/site-packages (from uvicorn[standard]>=0.18.3->chromadb) (0.6.4)\n",
      "Requirement already satisfied: uvloop!=0.15.0,!=0.15.1,>=0.14.0 in ./.venv/lib/python3.12/site-packages (from uvicorn[standard]>=0.18.3->chromadb) (0.21.0)\n",
      "Requirement already satisfied: watchfiles>=0.13 in ./.venv/lib/python3.12/site-packages (from uvicorn[standard]>=0.18.3->chromadb) (0.24.0)\n",
      "Requirement already satisfied: websockets>=10.4 in ./.venv/lib/python3.12/site-packages (from uvicorn[standard]>=0.18.3->chromadb) (13.1)\n",
      "Requirement already satisfied: cachetools<6.0,>=2.0.0 in ./.venv/lib/python3.12/site-packages (from google-auth>=1.0.1->kubernetes>=28.1.0->chromadb) (5.5.0)\n",
      "Requirement already satisfied: pyasn1-modules>=0.2.1 in ./.venv/lib/python3.12/site-packages (from google-auth>=1.0.1->kubernetes>=28.1.0->chromadb) (0.4.1)\n",
      "Requirement already satisfied: rsa<5,>=3.1.4 in ./.venv/lib/python3.12/site-packages (from google-auth>=1.0.1->kubernetes>=28.1.0->chromadb) (4.9)\n",
      "Requirement already satisfied: filelock in ./.venv/lib/python3.12/site-packages (from huggingface-hub<1.0,>=0.16.4->tokenizers>=0.13.2->chromadb) (3.16.1)\n",
      "Requirement already satisfied: fsspec>=2023.5.0 in ./.venv/lib/python3.12/site-packages (from huggingface-hub<1.0,>=0.16.4->tokenizers>=0.13.2->chromadb) (2024.10.0)\n",
      "Requirement already satisfied: zipp>=0.5 in ./.venv/lib/python3.12/site-packages (from importlib-metadata<=8.4.0,>=6.0->opentelemetry-api>=1.2.0->chromadb) (3.20.2)\n",
      "Requirement already satisfied: jsonpointer>=1.9 in ./.venv/lib/python3.12/site-packages (from jsonpatch<2.0,>=1.33->langchain-core<0.4.0,>=0.3.12->langchain) (3.0.0)\n",
      "Requirement already satisfied: mdurl~=0.1 in ./.venv/lib/python3.12/site-packages (from markdown-it-py>=2.2.0->rich>=10.11.0->chromadb) (0.1.2)\n",
      "Collecting mypy-extensions>=0.3.0 (from typing-inspect<1,>=0.4.0->dataclasses-json<0.7,>=0.5.7->langchain-community)\n",
      "  Using cached mypy_extensions-1.0.0-py3-none-any.whl.metadata (1.1 kB)\n",
      "Requirement already satisfied: propcache>=0.2.0 in ./.venv/lib/python3.12/site-packages (from yarl<2.0,>=1.12.0->aiohttp<4.0.0,>=3.8.3->langchain) (0.2.0)\n",
      "Requirement already satisfied: humanfriendly>=9.1 in ./.venv/lib/python3.12/site-packages (from coloredlogs->onnxruntime>=1.14.1->chromadb) (10.0)\n",
      "Requirement already satisfied: mpmath<1.4,>=1.1.0 in ./.venv/lib/python3.12/site-packages (from sympy->onnxruntime>=1.14.1->chromadb) (1.3.0)\n",
      "Requirement already satisfied: pyasn1<0.7.0,>=0.4.6 in ./.venv/lib/python3.12/site-packages (from pyasn1-modules>=0.2.1->google-auth>=1.0.1->kubernetes>=28.1.0->chromadb) (0.6.1)\n",
      "Downloading langchain_community-0.3.3-py3-none-any.whl (2.4 MB)\n",
      "\u001b[2K   \u001b[90m━━━━━━━━━━━━━━━━━━━━━━━━━━━━━━━━━━━━━━━━\u001b[0m \u001b[32m2.4/2.4 MB\u001b[0m \u001b[31m36.0 MB/s\u001b[0m eta \u001b[36m0:00:00\u001b[0m\n",
      "\u001b[?25hUsing cached dataclasses_json-0.6.7-py3-none-any.whl (28 kB)\n",
      "Downloading pydantic_settings-2.6.0-py3-none-any.whl (28 kB)\n",
      "Downloading marshmallow-3.23.0-py3-none-any.whl (49 kB)\n",
      "Using cached typing_inspect-0.9.0-py3-none-any.whl (8.8 kB)\n",
      "Using cached mypy_extensions-1.0.0-py3-none-any.whl (4.7 kB)\n",
      "Installing collected packages: mypy-extensions, marshmallow, typing-inspect, pydantic-settings, dataclasses-json, langchain-community\n",
      "Successfully installed dataclasses-json-0.6.7 langchain-community-0.3.3 marshmallow-3.23.0 mypy-extensions-1.0.0 pydantic-settings-2.6.0 typing-inspect-0.9.0\n",
      "Note: you may need to restart the kernel to use updated packages.\n"
     ]
    }
   ],
   "source": [
    "%pip install langchain openai chromadb langchainhub tiktoken pypdf langchain-community"
   ]
  },
  {
   "cell_type": "code",
   "execution_count": 8,
   "metadata": {},
   "outputs": [
    {
     "name": "stdout",
     "output_type": "stream",
     "text": [
      "4\n",
      "page_content='세부적으로는 , 먼저  음식과  관련된  텍스트  데\n",
      "이터를  수집한  뒤 해당  데이터로  Food2Vec 을 학\n",
      "습시킨다. 이때  Food2Vec 임베딩  공간에는  그림  1\n",
      "에 표기된  ‘음식  상품 ’ 및 ‘요리  레시피 ’ 등이  생\n",
      "성되며, 학습한  음식  텍스트  데이터  내 ‘단어 ’ 또\n",
      "한 동일한 임베딩  공간  내에  함께  생성된다. 이에  \n",
      "그림  3과 같이  유저의  특성  정보를 의미하는  단어  \n",
      "벡터와, 레시피의  임베딩  벡터  간 유사도를 분석\n",
      "하여  레시피  별로 개인화된  추천도를  계산한다 . \n",
      " \n",
      "그림 3 Food2Vec 을 이용한  개인화  추천 예시  \n",
      " \n",
      "3.2. 요리  적합도  모듈  \n",
      "요리  적합도  모듈은  현재  유저가  보유하고  있\n",
      "는 음식  상품  및 식재료를  고려하여  각 레시피를  \n",
      "지금  요리하기 적합한  지의  여부를  판단한다 .  \n",
      "해당  모듈에서는  먼저 , 각 레시피에서  다양한\n",
      "이름으로  표기된  동일  식재료  및 음식  상품들을 \n",
      "동일  대상으로  인식하도록  데이터  전처리  과정을  \n",
      "적용하였다 . 이후  각 레시피에 기재된  식재료  중 \n",
      "지금  유저가  가진  식재료  수 비율을  계산하여  각 \n",
      "레시피  별 요리  적합도  지표로 활용하였 다. \n",
      " \n",
      "3.3. 레시피  추천  모듈  \n",
      "레시피  추천  모듈은  Food2Vec 개인화  모듈과  \n",
      "요리  적합도  모듈의  출력  정보를  종합하여  최종적\n",
      "으로  추천할  레시피를 결정한다 . 이때 , 유저의  개\n",
      "인적인  음식  선호도  정보를  더 많이  반영할  것인\n",
      "지(개인화  모듈 ), 혹은  지금  요리하기  용이한  레시\n",
      "피를  우선적으로  추천  받을  것인지 (요리  적합도  \n",
      "모듈 )는 각 유저가  스스로  조정할 수 있도록  구현\n",
      "하였다 .  \n",
      " 4. 서비스  구현  및 결과  \n",
      " \n",
      "4.1. 데이터  수집  및 Food2Vec 학습  \n",
      "Food2Vec 임베딩을  학습하기  위하여 , 국내에서\n",
      "판매중인  음식  제품  591종과  이를  활용할  수 있는  \n",
      "요리  레시피  1323종을  선정하였다 . 이후  상기  음\n",
      "식 제품과  레시피에  대한  블로그  포스트  200,359\n",
      "건을  수집하였으며 , 레시피에 대해서는  각 레시피  \n",
      "별 설명 , 조리  방법 , 사용  재료  등의  정보를  추가\n",
      "로 수집하였다 . 수집된  텍스트  데이터는 전처리  \n",
      "과정을  진행한  뒤 Food2V ec 임베딩  학습  데이터\n",
      "로 활용하였다 .  \n",
      "종류 (예시 ) 데이터  유형  데이터  예시  \n",
      "음식제품  \n",
      "(토마토소스 ) 블로그  데이터  “저는  토마토  파스타  소스\n",
      "를 먼저  푹 끓인  다음… ” \n",
      "레시피  \n",
      "(고구마  김치  \n",
      "부르스게타 ) 블로그  데이터  “오늘은  고구마  김치  부르\n",
      "스게타를  만들었어요 ! …”  \n",
      "레시피  설명  “고구마의  단짝친구는   \n",
      "김치라고  해도  과언이…”  \n",
      "조리  방법  “각각의  재료를  준비한다 . \n",
      "볶음김치의  베이컨…”  \n",
      "사용  재료  바게트 , 고구마무 스,  \n",
      "볶음김치 , 리코타치즈 , … \n",
      "표 1 Food2Vec 학습을  위한 텍스트  데이터  \n",
      " \n",
      "4.2. 유저  특성  데이터  정의  \n",
      "개인화된  레시피  추천을  하기  위하여  활용하는  \n",
      "유저  특성  데이터의 경우 , 서비스  검증을  위하여  \n",
      "총 10종의  유저  특성을  예시로  설정하였으며  각 \n",
      "특성과  의미가  유사한  단어  5~7종을  사전  정의하\n",
      "였다 . 이후 , 서비스  검증  단계에서는  유저  특성이  \n",
      "결정되면  특성  별로  매칭된  단어들의  임베딩  벡터\n",
      "를 기준으로  하여  음식  제품  및 레시피와의  유사\n",
      "도를  측정하였다 . 유저  특성  예시는  표 2와 같다 . \n",
      "유저  특성  \n",
      "(10종) 청년층 , 노년층 , 아침식사 , 야식 , 파티 , \n",
      "한국 , 프랑스 , 일본 , 비건 , 다이어트  \n",
      "유저  특성  \n",
      "별 \n",
      "단어  예시  아침식사  간편 , 아침 , 아침식사 , 식사대용 , 과일  \n",
      "프랑스  프랑스 , 바게트 , 유럽 , 와인 , 현지 , 여행  \n",
      "다이어트  다이어트 , 헬스 , 저칼로리 , 단백질 , 건강  \n",
      "표 2 유저 특성 데이터  예시' metadata={'source': 'data/한국IT서비스학회_Food2Vec을 이용한 개인화된 레시피 추천 서비스.pdf', 'page': 2}\n"
     ]
    }
   ],
   "source": [
    "from langchain.document_loaders import PyPDFLoader\n",
    "\n",
    "loader = PyPDFLoader(\"data/한국IT서비스학회_Food2Vec을 이용한 개인화된 레시피 추천 서비스.pdf\")\n",
    "documents = loader.load_and_split()\n",
    "print(len(documents))\n",
    "print(documents[2])"
   ]
  },
  {
   "cell_type": "markdown",
   "metadata": {},
   "source": [
    "## RecursiveCharacterTextSplitter\n",
    "RecursiveCharacterTextSplitter는 문장이나 단락을 기준으로 가능한 한 자연스럽게 텍스트를 나누도록 설계되어 있습니다. 사용자가 구체적인 separators를 지정하면 그에 따라 보다 세밀하게 조정이 가능하지만, 그렇지 않더라도 문장 경계를 고려한 기본적인 동작을 수행하게 됩니다.\n",
    "\n",
    "이 기본 구분자는 일반적으로 문장 끝에 있는 마침표(.), 개행 문자(\\n), 공백( ) 등을 포함하며, 이들 경계를 통해 텍스트를 나누게 됩니다. 이렇게 하면 문장이 갑작스럽게 중단되지 않고 최대한 논리적인 경계를 유지하게 됩니다."
   ]
  },
  {
   "cell_type": "code",
   "execution_count": null,
   "metadata": {},
   "outputs": [
    {
     "name": "stdout",
     "output_type": "stream",
     "text": [
      "5\n",
      "문장 A. 문장 B. ??\n",
      "======\n",
      "문장 B. ?? ? 문장\n",
      "======\n",
      "?? ? 문장 C. 문장\n",
      "======\n",
      "문장 C. 문장 D. 문장\n",
      "======\n",
      "문장 D. 문장 E.\n",
      "======\n"
     ]
    }
   ],
   "source": [
    "from langchain.text_splitter import RecursiveCharacterTextSplitter\n",
    "\n",
    "text_splitter = RecursiveCharacterTextSplitter(chunk_size=15, chunk_overlap=10)\n",
    "texts = text_splitter.split_text(\"문장 A. 문장 B. ?? ? 문장 C. 문장 D. 문장 E.\")\n",
    "print(len(texts))\n",
    "for text in texts:\n",
    "    print(text)\n",
    "    print(\"======\")\n",
    "\n"
   ]
  },
  {
   "cell_type": "code",
   "execution_count": null,
   "metadata": {},
   "outputs": [
    {
     "name": "stdout",
     "output_type": "stream",
     "text": [
      "5\n",
      "문장 A. 문장 B. ??\n",
      "======\n",
      "문장 B. ?? ? 문장\n",
      "======\n",
      "?? ? 문장 C. 문장\n",
      "======\n",
      "문장 C. 문장 D. 문장\n",
      "======\n",
      "문장 D. 문장 E.\n",
      "======\n"
     ]
    },
    {
     "name": "stderr",
     "output_type": "stream",
     "text": [
      "<>:3: SyntaxWarning: invalid escape sequence '\\.'\n",
      "<>:3: SyntaxWarning: invalid escape sequence '\\.'\n",
      "/var/folders/rf/g5t2kw6n1d7db5gnyn05k6f40000gn/T/ipykernel_23179/3139810191.py:3: SyntaxWarning: invalid escape sequence '\\.'\n",
      "  text_splitter = RecursiveCharacterTextSplitter(chunk_size=15, chunk_overlap=10, separators=[\"\\n\\n\", \"\\n\", \"(?<=\\. )\",\" \", \"\"])\n"
     ]
    }
   ],
   "source": [
    "from langchain.text_splitter import RecursiveCharacterTextSplitter\n",
    "\n",
    "text_splitter = RecursiveCharacterTextSplitter(chunk_size=15, chunk_overlap=10, separators=[\"\\n\\n\", \"\\n\", \"(?<=\\. )\",\" \", \"\"])\n",
    "texts = text_splitter.split_text(\"문장 A. 문장 B. ?? ? 문장 C. 문장 D. 문장 E.\")\n",
    "print(len(texts))\n",
    "for text in texts:\n",
    "    print(text)\n",
    "    print(\"======\")\n"
   ]
  },
  {
   "cell_type": "code",
   "execution_count": 39,
   "metadata": {},
   "outputs": [
    {
     "name": "stdout",
     "output_type": "stream",
     "text": [
      "19\n",
      "최근  요리와  관련된  AI 연구는 주로  음식  사진_______________________________________  \n",
      "† 교신저자 (Corresp onding Author)  : CJ올리브네트웍스  \n",
      "AI-CORE연구소  소장 손종수 (jongsoo.sohn@cj.net )\n"
     ]
    }
   ],
   "source": [
    "from langchain.text_splitter import RecursiveCharacterTextSplitter\n",
    "\n",
    "text_splitter = RecursiveCharacterTextSplitter(chunk_size=500, chunk_overlap=0)\n",
    "texts = text_splitter.split_documents(documents)\n",
    "print(len(texts))\n",
    "print(texts[3].page_content)"
   ]
  },
  {
   "cell_type": "markdown",
   "metadata": {},
   "source": [
    "## vector_store.similarity_search()\n",
    "- 문서 유사도를 기반으로 한 검색\n",
    "- 모든 문서의 임베딩 간의 코사인 유사도를 비교"
   ]
  },
  {
   "cell_type": "code",
   "execution_count": 58,
   "metadata": {},
   "outputs": [
    {
     "name": "stdout",
     "output_type": "stream",
     "text": [
      "(Document(metadata={'page': 0, 'source': 'data/한국IT서비스학회_Food2Vec을 이용한 개인화된 레시피 추천 서비스.pdf'}, page_content='각 유저 별로 개인화된  레시피를 추천할 수 있도록  설계하였다. 본 논문에서  소개하는  서비스는  \\n약 1300여 종의 레시피를  추천할  수 있으며 , 향후 실 서비스  적용을  통해 비대면  레시피  추천 서\\n비스로  활용될  것으로  기대한다 . \\n \\n \\n1. 서론  \\n 코로나 19로 인하여  가정에서의  식사  빈도가  \\n증가하고 , 건강  관리  및 실내  취미  활동이  주목받\\n으면서  가정에서  직접  요리를 하는  인구가 증가하\\n고 있다 . 이와  함께 , 요리  레시피를  공유하는  커뮤니티  및 영상  컨텐츠  분야가  지속적으로  성장하였\\n으며 , 또한  간편하게  요리를  할 수 있는  밀키트  \\n및 HMR 제품  시장도 크게  성장하였다 . 이에 , 가\\n정에서 직접  요리를  하는  고객에게  편의를  제공할  \\n수 있는  신규  AI 기술  및 서비스  개발이  다수  진\\n행되고  있다 [1,2,3,4,5] .'), 0.8145870782686928)\n",
      "page_content='각 유저 별로 개인화된  레시피를 추천할 수 있도록  설계하였다. 본 논문에서  소개하는  서비스는  \n",
      "약 1300여 종의 레시피를  추천할  수 있으며 , 향후 실 서비스  적용을  통해 비대면  레시피  추천 서\n",
      "비스로  활용될  것으로  기대한다 . \n",
      " \n",
      " \n",
      "1. 서론  \n",
      " 코로나 19로 인하여  가정에서의  식사  빈도가  \n",
      "증가하고 , 건강  관리  및 실내  취미  활동이  주목받\n",
      "으면서  가정에서  직접  요리를 하는  인구가 증가하\n",
      "고 있다 . 이와  함께 , 요리  레시피를  공유하는  커뮤니티  및 영상  컨텐츠  분야가  지속적으로  성장하였\n",
      "으며 , 또한  간편하게  요리를  할 수 있는  밀키트  \n",
      "및 HMR 제품  시장도 크게  성장하였다 . 이에 , 가\n",
      "정에서 직접  요리를  하는  고객에게  편의를  제공할  \n",
      "수 있는  신규  AI 기술  및 서비스  개발이  다수  진\n",
      "행되고  있다 [1,2,3,4,5] .' metadata={'page': 0, 'source': 'data/한국IT서비스학회_Food2Vec을 이용한 개인화된 레시피 추천 서비스.pdf'}\n",
      "======\n",
      "0.8145870782686928\n",
      "======\n",
      "======\n",
      "(Document(metadata={'page': 0, 'source': 'data/한국IT서비스학회_Food2Vec을 이용한 개인화된 레시피 추천 서비스.pdf'}, page_content='각 유저 별로 개인화된  레시피를 추천할 수 있도록  설계하였다. 본 논문에서  소개하는  서비스는  \\n약 1300여 종의 레시피를  추천할  수 있으며 , 향후 실 서비스  적용을  통해 비대면  레시피  추천 서\\n비스로  활용될  것으로  기대한다 . \\n \\n \\n1. 서론  \\n 코로나 19로 인하여  가정에서의  식사  빈도가  \\n증가하고 , 건강  관리  및 실내  취미  활동이  주목받\\n으면서  가정에서  직접  요리를 하는  인구가 증가하\\n고 있다 . 이와  함께 , 요리  레시피를  공유하는  커뮤니티  및 영상  컨텐츠  분야가  지속적으로  성장하였\\n으며 , 또한  간편하게  요리를  할 수 있는  밀키트  \\n및 HMR 제품  시장도 크게  성장하였다 . 이에 , 가\\n정에서 직접  요리를  하는  고객에게  편의를  제공할  \\n수 있는  신규  AI 기술  및 서비스  개발이  다수  진\\n행되고  있다 [1,2,3,4,5] .'), 0.8145870782686928)\n",
      "page_content='각 유저 별로 개인화된  레시피를 추천할 수 있도록  설계하였다. 본 논문에서  소개하는  서비스는  \n",
      "약 1300여 종의 레시피를  추천할  수 있으며 , 향후 실 서비스  적용을  통해 비대면  레시피  추천 서\n",
      "비스로  활용될  것으로  기대한다 . \n",
      " \n",
      " \n",
      "1. 서론  \n",
      " 코로나 19로 인하여  가정에서의  식사  빈도가  \n",
      "증가하고 , 건강  관리  및 실내  취미  활동이  주목받\n",
      "으면서  가정에서  직접  요리를 하는  인구가 증가하\n",
      "고 있다 . 이와  함께 , 요리  레시피를  공유하는  커뮤니티  및 영상  컨텐츠  분야가  지속적으로  성장하였\n",
      "으며 , 또한  간편하게  요리를  할 수 있는  밀키트  \n",
      "및 HMR 제품  시장도 크게  성장하였다 . 이에 , 가\n",
      "정에서 직접  요리를  하는  고객에게  편의를  제공할  \n",
      "수 있는  신규  AI 기술  및 서비스  개발이  다수  진\n",
      "행되고  있다 [1,2,3,4,5] .' metadata={'page': 0, 'source': 'data/한국IT서비스학회_Food2Vec을 이용한 개인화된 레시피 추천 서비스.pdf'}\n",
      "======\n",
      "0.8145870782686928\n",
      "======\n",
      "======\n",
      "(Document(metadata={'page': 0, 'source': 'data/한국IT서비스학회_Food2Vec을 이용한 개인화된 레시피 추천 서비스.pdf'}, page_content='각 유저 별로 개인화된  레시피를 추천할 수 있도록  설계하였다. 본 논문에서  소개하는  서비스는  \\n약 1300여 종의 레시피를  추천할  수 있으며 , 향후 실 서비스  적용을  통해 비대면  레시피  추천 서\\n비스로  활용될  것으로  기대한다 . \\n \\n \\n1. 서론  \\n 코로나 19로 인하여  가정에서의  식사  빈도가  \\n증가하고 , 건강  관리  및 실내  취미  활동이  주목받\\n으면서  가정에서  직접  요리를 하는  인구가 증가하\\n고 있다 . 이와  함께 , 요리  레시피를  공유하는  커뮤니티  및 영상  컨텐츠  분야가  지속적으로  성장하였\\n으며 , 또한  간편하게  요리를  할 수 있는  밀키트  \\n및 HMR 제품  시장도 크게  성장하였다 . 이에 , 가\\n정에서 직접  요리를  하는  고객에게  편의를  제공할  \\n수 있는  신규  AI 기술  및 서비스  개발이  다수  진\\n행되고  있다 [1,2,3,4,5] .'), 0.8145870782686928)\n",
      "page_content='각 유저 별로 개인화된  레시피를 추천할 수 있도록  설계하였다. 본 논문에서  소개하는  서비스는  \n",
      "약 1300여 종의 레시피를  추천할  수 있으며 , 향후 실 서비스  적용을  통해 비대면  레시피  추천 서\n",
      "비스로  활용될  것으로  기대한다 . \n",
      " \n",
      " \n",
      "1. 서론  \n",
      " 코로나 19로 인하여  가정에서의  식사  빈도가  \n",
      "증가하고 , 건강  관리  및 실내  취미  활동이  주목받\n",
      "으면서  가정에서  직접  요리를 하는  인구가 증가하\n",
      "고 있다 . 이와  함께 , 요리  레시피를  공유하는  커뮤니티  및 영상  컨텐츠  분야가  지속적으로  성장하였\n",
      "으며 , 또한  간편하게  요리를  할 수 있는  밀키트  \n",
      "및 HMR 제품  시장도 크게  성장하였다 . 이에 , 가\n",
      "정에서 직접  요리를  하는  고객에게  편의를  제공할  \n",
      "수 있는  신규  AI 기술  및 서비스  개발이  다수  진\n",
      "행되고  있다 [1,2,3,4,5] .' metadata={'page': 0, 'source': 'data/한국IT서비스학회_Food2Vec을 이용한 개인화된 레시피 추천 서비스.pdf'}\n",
      "======\n",
      "0.8145870782686928\n",
      "======\n",
      "======\n",
      "(Document(metadata={'page': 0, 'source': 'data/한국IT서비스학회_Food2Vec을 이용한 개인화된 레시피 추천 서비스.pdf'}, page_content='각 유저 별로 개인화된  레시피를 추천할 수 있도록  설계하였다. 본 논문에서  소개하는  서비스는  \\n약 1300여 종의 레시피를  추천할  수 있으며 , 향후 실 서비스  적용을  통해 비대면  레시피  추천 서\\n비스로  활용될  것으로  기대한다 . \\n \\n \\n1. 서론  \\n 코로나 19로 인하여  가정에서의  식사  빈도가  \\n증가하고 , 건강  관리  및 실내  취미  활동이  주목받\\n으면서  가정에서  직접  요리를 하는  인구가 증가하\\n고 있다 . 이와  함께 , 요리  레시피를  공유하는  커뮤니티  및 영상  컨텐츠  분야가  지속적으로  성장하였\\n으며 , 또한  간편하게  요리를  할 수 있는  밀키트  \\n및 HMR 제품  시장도 크게  성장하였다 . 이에 , 가\\n정에서 직접  요리를  하는  고객에게  편의를  제공할  \\n수 있는  신규  AI 기술  및 서비스  개발이  다수  진\\n행되고  있다 [1,2,3,4,5] .'), 0.8145870782686928)\n",
      "page_content='각 유저 별로 개인화된  레시피를 추천할 수 있도록  설계하였다. 본 논문에서  소개하는  서비스는  \n",
      "약 1300여 종의 레시피를  추천할  수 있으며 , 향후 실 서비스  적용을  통해 비대면  레시피  추천 서\n",
      "비스로  활용될  것으로  기대한다 . \n",
      " \n",
      " \n",
      "1. 서론  \n",
      " 코로나 19로 인하여  가정에서의  식사  빈도가  \n",
      "증가하고 , 건강  관리  및 실내  취미  활동이  주목받\n",
      "으면서  가정에서  직접  요리를 하는  인구가 증가하\n",
      "고 있다 . 이와  함께 , 요리  레시피를  공유하는  커뮤니티  및 영상  컨텐츠  분야가  지속적으로  성장하였\n",
      "으며 , 또한  간편하게  요리를  할 수 있는  밀키트  \n",
      "및 HMR 제품  시장도 크게  성장하였다 . 이에 , 가\n",
      "정에서 직접  요리를  하는  고객에게  편의를  제공할  \n",
      "수 있는  신규  AI 기술  및 서비스  개발이  다수  진\n",
      "행되고  있다 [1,2,3,4,5] .' metadata={'page': 0, 'source': 'data/한국IT서비스학회_Food2Vec을 이용한 개인화된 레시피 추천 서비스.pdf'}\n",
      "======\n",
      "0.8145870782686928\n",
      "======\n",
      "======\n"
     ]
    }
   ],
   "source": [
    "from langchain.embeddings import OpenAIEmbeddings\n",
    "from langchain.vectorstores import Chroma\n",
    "\n",
    "embeddings = OpenAIEmbeddings()\n",
    "vector_store = Chroma.from_documents(texts, embeddings)\n",
    "result = vector_store.similarity_search_with_relevance_scores(\"레시피 추천 서비스에 대해 설명해주세요.\")\n",
    "\n",
    "for r in result:\n",
    "    print(r)\n",
    "    print(r[0])\n",
    "    print(\"======\")\n",
    "    print(r[1])\n",
    "    print(\"======\")\n",
    "    print(\"======\")"
   ]
  },
  {
   "cell_type": "markdown",
   "metadata": {},
   "source": [
    "## vector_store.as_retriever()\n",
    "- 검색 결과를 langchain에서 제공하는 다른 시스템과 결합하거나 더 복잡한 시스템에 활용 가능\n",
    "- 다양한 최적화, 검색 기준 적용 가능\n",
    "- 검색 개수 및 필터링 가능"
   ]
  },
  {
   "cell_type": "code",
   "execution_count": 52,
   "metadata": {},
   "outputs": [
    {
     "data": {
      "text/plain": [
       "[Document(metadata={'page': 0, 'source': 'data/한국IT서비스학회_Food2Vec을 이용한 개인화된 레시피 추천 서비스.pdf'}, page_content='각 유저 별로 개인화된  레시피를 추천할 수 있도록  설계하였다. 본 논문에서  소개하는  서비스는  \\n약 1300여 종의 레시피를  추천할  수 있으며 , 향후 실 서비스  적용을  통해 비대면  레시피  추천 서\\n비스로  활용될  것으로  기대한다 . \\n \\n \\n1. 서론  \\n 코로나 19로 인하여  가정에서의  식사  빈도가  \\n증가하고 , 건강  관리  및 실내  취미  활동이  주목받\\n으면서  가정에서  직접  요리를 하는  인구가 증가하\\n고 있다 . 이와  함께 , 요리  레시피를  공유하는  커뮤니티  및 영상  컨텐츠  분야가  지속적으로  성장하였\\n으며 , 또한  간편하게  요리를  할 수 있는  밀키트  \\n및 HMR 제품  시장도 크게  성장하였다 . 이에 , 가\\n정에서 직접  요리를  하는  고객에게  편의를  제공할  \\n수 있는  신규  AI 기술  및 서비스  개발이  다수  진\\n행되고  있다 [1,2,3,4,5] .'),\n",
       " Document(metadata={'page': 3, 'source': 'data/한국IT서비스학회_Food2Vec을 이용한 개인화된 레시피 추천 서비스.pdf'}, page_content='4.3. 개인화된 레시피  추천  결과  \\n본 논문에서  소개한  레시피  추천  서비스의  실\\n행 예시를 표 3에 기재하였다 . 표 3 에서  1, 2행 / \\n3, 4행을 비교할 경우 , 동일한  유저임에도  보유  재\\n료에  따라  추천되는  레시피가  크게  달라지는  것을  \\n확인할  수 있다 . 또한  표 3 의 1, 3행 / 2, 4행을  각\\n각 비교할  경우에는  동일한  식재료를  보유하고  있\\n는 상황임에도  유저의  특성  변화에  따라  새로운  \\n레시피가 추천되거나 , 기존에 추천된 레시피  간의 \\n추천  순위가  변경되는  것을  확인할 수 있다 .  \\n유저  특성  보유  재료  추천  레시피  \\n프랑스  \\n파티  올리브유  \\n새우살  \\n표고버섯  \\n파프리카  \\n계란  홍합  \\n마늘  햇반  토마토소스  홍합찜  \\n트러플리조또  \\n크림리조또  \\n… \\n프랑스  \\n파티  굴소스  \\n소고기  \\n햇반  양파  \\n고추  계란  \\n새우살  마늘   브런치  볶음밥'),\n",
       " Document(metadata={'page': 0, 'source': 'data/한국IT서비스학회_Food2Vec을 이용한 개인화된 레시피 추천 서비스.pdf'}, page_content='mk.kim1@cj.net  hyunil.lim@cj.net  cm.ahn@cj.net  jiyoon.seo@cj.net  jaewon.yoo@cj.net  jongsoo.sohn@cj. net \\n \\n요  약 \\n \\n최근, 요리 레시피를  공유하는  커뮤니티  및 영상 컨텐츠  시장이  지속적으로  성장함과  동시에  코\\n로나19 이후 가정에서  직접 요리를  하는 인구 수가 크게 증가하면서 , 원하는  레시피를  검색하여  \\n직접 요리를  하는 방법이 더욱 보편화되고  있다. 하지만 , 다양한  레시피  중에서  각 유저가 가장 \\n좋아할  만한 요리를  선별하여  맞춤 추천하는  서비스는  제공되지  못하고  있다. 본 논문에서는  식품 \\n및 레시피  간의 유사도를  분석할  수 있는 Food2Vec 기법을  활용하여  레시피를  추천하는  서비스\\n를 소개한다. 본 서비스는  요리를  하려는 유저의  특성과  레시피의  특성을  동시에  고려함으로써 ,'),\n",
       " Document(metadata={'page': 1, 'source': 'data/한국IT서비스학회_Food2Vec을 이용한 개인화된 레시피 추천 서비스.pdf'}, page_content='개인화된  레시피  추천  서비스를  설명한다 . 4장에서\\n는 레시피  추천  결과를 소개한다 . 5장에서는  연구\\n에 대한  결론을  내린다. \\n \\n2. 관련  연구  \\n2.1. Doc 2Vec  \\nDoc2Vec [6]은 문서를  벡터화하여  임베딩  공간\\n에 나타내는  기술이다 . 문서  내에  있는  단어를  고\\n려하여  문서를  임베딩하기  때문에 , 유사한  단어를  \\n보유한  문서들이  서로  인접하여  벡터화된다 . \\n문서를  Doc2Vec으로  학습함과  동시에 , 문서  내\\n의 단어들을  Word2Vec 으로  임베딩하여  문서와  단\\n어를  동시에  같은  임베딩  차원으로  반영함으 로써  \\n문서 -단어  간 의미  관계를  일부  유추할  수 있다 . \\n \\n2.2. Food2Vec  \\nFood2Vec [7]은 Doc2Vec을 이용하여  음식을  벡\\n터화하고  이를  임베딩  공간에  나타내는  기술이다 .')]"
      ]
     },
     "execution_count": 52,
     "metadata": {},
     "output_type": "execute_result"
    }
   ],
   "source": [
    "from langchain.embeddings import OpenAIEmbeddings\n",
    "from langchain.vectorstores import Chroma\n",
    "\n",
    "embeddings = OpenAIEmbeddings()\n",
    "vector_store = Chroma.from_documents(texts, embeddings, persist_directory=\"rag/chroma_db1\")\n",
    "retriever = vector_store.as_retriever()\n",
    "retriever.invoke(\"레시피 추천 서비스에 대해 설명해주세요.\")\n"
   ]
  },
  {
   "cell_type": "markdown",
   "metadata": {},
   "source": [
    "## 중복된 내용이 검색되는 이유\n",
    "- 코드를 여러번 실행하다 보면 출력 결과에 첫 번째, 두 번째 결과의 내용이 중복된다.\n",
    "- 이는 실행할 때마다 ChromaDB에 새로 embedding을 하고 추가하기 때문이다.\n",
    "- persist_directory를 지정하지 않으면 Chroma.from_documents()는 데이터를 메모리(RAM)에 저장하게 되는데, 이러면 메모리에 중복되어서 계속 임베딩되고 있는 것이다.\n",
    "- 이 경우, 프로그램이 종료되면 데이터가 유지되지 않으며, 저장된 내용은 모두 손실되기 때문에 재시작을 해주면 중복해서 나오는 문제가 해결된다.\n",
    "- 하지만 휘발성 저장소처럼 동작하기 때문에 재사용이 어려워 프로젝트를 진행할 때는 persist_directory를 지정해주는 것이 좋다."
   ]
  },
  {
   "cell_type": "code",
   "execution_count": null,
   "metadata": {},
   "outputs": [],
   "source": []
  }
 ],
 "metadata": {
  "kernelspec": {
   "display_name": ".venv",
   "language": "python",
   "name": "python3"
  },
  "language_info": {
   "codemirror_mode": {
    "name": "ipython",
    "version": 3
   },
   "file_extension": ".py",
   "mimetype": "text/x-python",
   "name": "python",
   "nbconvert_exporter": "python",
   "pygments_lexer": "ipython3",
   "version": "3.12.5"
  }
 },
 "nbformat": 4,
 "nbformat_minor": 2
}
